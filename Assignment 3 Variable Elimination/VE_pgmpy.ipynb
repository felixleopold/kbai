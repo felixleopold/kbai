{
 "cells": [
  {
   "cell_type": "markdown",
   "metadata": {
    "id": "HcsuAZCtLb7A"
   },
   "source": [
    "# Variable elimination in Python using pgmpy\n",
    "\n",
    "Notebook by Mika van Emmerloot (Improvements by Mats Robben)\n",
    "\n",
    "Package `pgmpy` by Ankur Ankan (currently a Post Doc at Radboud and wrote this package during his PhD)  \n",
    "https://pgmpy.org/index.html"
   ]
  },
  {
   "cell_type": "code",
   "execution_count": 1,
   "metadata": {
    "id": "k28iBdwlLWej"
   },
   "outputs": [],
   "source": [
    "# Run this cell on Google Colab to install the pgmpy package\n",
    "!pip install pgmpy"
   ]
  },
  {
   "cell_type": "code",
   "execution_count": null,
   "metadata": {
    "id": "wdp3Kb8GLVHU"
   },
   "outputs": [],
   "source": [
    "import numpy as np\n",
    "import pandas as pd\n",
    "from pgmpy.models import BayesianNetwork\n",
    "from pgmpy.factors.discrete import TabularCPD\n",
    "from pgmpy.inference import VariableElimination"
   ]
  },
  {
   "cell_type": "markdown",
   "metadata": {
    "id": "3454cJRWqmOV"
   },
   "source": [
    "# BIF file reader\n",
    "If you want to do inference on a different network you can use the following code to load a .bif file and do inference. If you are looking for Bayesian Networks (.bif files) to test your implementation, have a look at this website: https://www.bnlearn.com/bnrepository/"
   ]
  },
  {
   "cell_type": "code",
   "execution_count": null,
   "metadata": {
    "id": "e0_8TkKJU8nE"
   },
   "outputs": [],
   "source": [
    "from pgmpy.readwrite import BIFReader\n",
    "\n",
    "reader = BIFReader(\"/content/survey.bif\") # Import your own Bayesian Network"
   ]
  },
  {
   "cell_type": "code",
   "execution_count": null,
   "metadata": {
    "colab": {
     "base_uri": "https://localhost:8080/"
    },
    "id": "DZ8CXdqTpv-1",
    "outputId": "ac4e396d-bd58-4ec6-9152-e0810fef04ec"
   },
   "outputs": [
    {
     "name": "stdout",
     "output_type": "stream",
     "text": [
      "[('A', 'E'), ('S', 'E'), ('E', 'O'), ('E', 'R'), ('O', 'T'), ('R', 'T')]\n",
      "['A', 'S', 'E', 'O', 'R', 'T']\n"
     ]
    }
   ],
   "source": [
    "model = reader.get_model()\n",
    "\n",
    "print(model.edges)\n",
    "print(model.nodes)"
   ]
  },
  {
   "cell_type": "code",
   "execution_count": null,
   "metadata": {
    "colab": {
     "base_uri": "https://localhost:8080/",
     "height": 205,
     "referenced_widgets": [
      "a080e46617d6439da622b6ae85e301ad",
      "21f549543dd34181b98d44016f3f2273",
      "0ea07eccae394154b123e299d1da43df",
      "0c377b32b1854c2bb2061980e376e97e",
      "93acc3b4cd674d9fb092f48ca13cb4d8",
      "cf023f785cbf4d22b2ce48d2d78e1785",
      "e32dbbd4e89c40d995fea9733ecf9a15",
      "7eadb823914e4013b8638992805c726b",
      "c75e85c777e343fe91be652848c30a28",
      "485d7f2d8ec34df4ab6b5dc46e6a8e44",
      "662ebe26004d4adb990aadbbd3a871d4"
     ]
    },
    "id": "O-RUCI0bqFv7",
    "outputId": "86486739-9852-4bb2-8d42-508468a74939"
   },
   "outputs": [
    {
     "data": {
      "application/vnd.jupyter.widget-view+json": {
       "model_id": "a080e46617d6439da622b6ae85e301ad",
       "version_major": 2,
       "version_minor": 0
      },
      "text/plain": [
       "0it [00:00, ?it/s]"
      ]
     },
     "metadata": {},
     "output_type": "display_data"
    },
    {
     "name": "stdout",
     "output_type": "stream",
     "text": [
      "+----------+----------+\n",
      "| A        |   phi(A) |\n",
      "+==========+==========+\n",
      "| A(young) |   0.3000 |\n",
      "+----------+----------+\n",
      "| A(adult) |   0.5000 |\n",
      "+----------+----------+\n",
      "| A(old)   |   0.2000 |\n",
      "+----------+----------+\n"
     ]
    }
   ],
   "source": [
    "inference = VariableElimination(model)\n",
    "\n",
    "result =  inference.query(\n",
    "          variables=['A'],\n",
    "          evidence={},     # Keep in mide that variables in most .bif files are strings, so if you have True and False it should be 'True' and 'False' in your evidence dict\n",
    "          elimination_order=None,\n",
    "          joint=False)\n",
    "\n",
    "for factor in result.values():\n",
    "    print(factor)"
   ]
  },
  {
   "cell_type": "markdown",
   "metadata": {
    "id": "FSFwKTcrZnNZ"
   },
   "source": [
    "If you want to dive deeper in the pgmpy package and make your own networks, you can take a look at the code below."
   ]
  },
  {
   "cell_type": "markdown",
   "metadata": {
    "id": "RCeozdcjija7"
   },
   "source": [
    "## Preliminaries"
   ]
  },
  {
   "cell_type": "markdown",
   "metadata": {
    "id": "ILsacOlFjAe7"
   },
   "source": [
    "The order in which the truth values are specified follows the order you would expect to see in a truth table:\n",
    "\n",
    "| Tampering |  f   |\n",
    "|-----------|------|\n",
    "| False     | 0.98 |\n",
    "| True      | 0.02 |\n",
    "\n",
    "---\n",
    "\n",
    "| Alarm | Tampering | Fire  |   f    |\n",
    "|-------|-----------|-------|--------|\n",
    "| False |   False   | False | 0.9999 |\n",
    "| False |   False   | True  | 0.0100 |\n",
    "| False |   True    | False | 0.1500 |\n",
    "| False |   True    | True  | 0.5000 |\n",
    "| True  |   False   | False | 0.0001 |\n",
    "| True  |   False   | True  | 0.9900 |\n",
    "| True  |   True    | False | 0.8500 |\n",
    "| True  |   True    | True  | 0.5000 |\n",
    "\n",
    "---\n",
    "\n",
    "| Leaving | Alarm |   f   |\n",
    "|---------|-------|-------|\n",
    "| False   | False | 0.999 |\n",
    "| False   | True  | 0.120 |\n",
    "| True    | False | 0.001 |\n",
    "| True    | True  | 0.880 |\n",
    "\n",
    "CPT's tend to be given with the \"True\" rows first (sometimes omitting the \"False\" rows altogether since these can be inferred), so pay attention to this 😁."
   ]
  },
  {
   "cell_type": "code",
   "execution_count": null,
   "metadata": {
    "colab": {
     "base_uri": "https://localhost:8080/"
    },
    "id": "9s_sfa6BilRf",
    "outputId": "40e59bed-5e8f-437b-822c-6e978a9330dc"
   },
   "outputs": [
    {
     "name": "stdout",
     "output_type": "stream",
     "text": [
      "+--------------+------+\n",
      "| Tampering(0) | 0.98 |\n",
      "+--------------+------+\n",
      "| Tampering(1) | 0.02 |\n",
      "+--------------+------+\n",
      "+-----------+--------------+--------------+--------------+--------------+\n",
      "| Tampering | Tampering(0) | Tampering(0) | Tampering(1) | Tampering(1) |\n",
      "+-----------+--------------+--------------+--------------+--------------+\n",
      "| Fire      | Fire(0)      | Fire(1)      | Fire(0)      | Fire(1)      |\n",
      "+-----------+--------------+--------------+--------------+--------------+\n",
      "| Alarm(0)  | 0.9999       | 0.01         | 0.15         | 0.5          |\n",
      "+-----------+--------------+--------------+--------------+--------------+\n",
      "| Alarm(1)  | 0.0001       | 0.99         | 0.85         | 0.5          |\n",
      "+-----------+--------------+--------------+--------------+--------------+\n",
      "+------------+----------+----------+\n",
      "| Alarm      | Alarm(0) | Alarm(1) |\n",
      "+------------+----------+----------+\n",
      "| Leaving(0) | 0.999    | 0.12     |\n",
      "+------------+----------+----------+\n",
      "| Leaving(1) | 0.001    | 0.88     |\n",
      "+------------+----------+----------+\n"
     ]
    }
   ],
   "source": [
    "cpd_tampering = TabularCPD(\n",
    "                variable='Tampering', variable_card=2,\n",
    "                values=[[.98], [0.02]])\n",
    "print(cpd_tampering)\n",
    "\n",
    "cpd_alarm = TabularCPD(\n",
    "            variable='Alarm', variable_card=2,\n",
    "            values=[[0.9999, 0.0100, 0.1500, 0.5],\n",
    "                    [0.0001, 0.9900, 0.8500, 0.5]],\n",
    "            evidence=['Tampering', 'Fire'],\n",
    "            evidence_card=[2, 2])\n",
    "print(cpd_alarm)\n",
    "\n",
    "cpd_leaving = TabularCPD(\n",
    "              variable='Leaving', variable_card=2,\n",
    "              values=[[0.999, 0.12], [0.001, 0.88]],\n",
    "              evidence=['Alarm'], evidence_card=[2])\n",
    "print(cpd_leaving)"
   ]
  },
  {
   "cell_type": "markdown",
   "metadata": {
    "id": "Hd7KBHzZrrt4"
   },
   "source": [
    "In the `TabularCPD` constructor, the `evidence` parameter is a list containing the names of the direct parents.  \n",
    "The `variable_card` and `evidence_card` parameters denote the cardinality (= number of different values) of the node and its parents, respectively.\n",
    "In this notebook I only use binary variables, so the cardinality will always be 2."
   ]
  },
  {
   "cell_type": "code",
   "execution_count": null,
   "metadata": {
    "colab": {
     "base_uri": "https://localhost:8080/"
    },
    "id": "xUUVdMYbsGaw",
    "outputId": "3b43f0f7-3fdb-42e0-db95-78cac54ae404"
   },
   "outputs": [
    {
     "name": "stdout",
     "output_type": "stream",
     "text": [
      "['Burglary', 'Alarm', 'Earthquake']\n",
      "[('Burglary', 'Alarm'), ('Earthquake', 'Alarm')]\n",
      "['Burglary', 'Earthquake']\n"
     ]
    }
   ],
   "source": [
    "example_model = BayesianNetwork([\n",
    "                ('Burglary', 'Alarm'),\n",
    "                ('Earthquake', 'Alarm')])\n",
    "\n",
    "print(example_model.nodes)\n",
    "print(example_model.edges)\n",
    "print(example_model.get_parents('Alarm'))"
   ]
  },
  {
   "cell_type": "markdown",
   "metadata": {
    "id": "kgNOSV4DtL2O"
   },
   "source": [
    "As can be seen, the `BayesianNetwork` is constructed using a list of edges, where `(A, B)` denotes an edge $A \\to B$, making $A$ a parent of $B$."
   ]
  },
  {
   "cell_type": "markdown",
   "metadata": {
    "id": "1eUew-nDWwbv"
   },
   "source": [
    "## Example 1: Earthquake\n",
    "\n",
    "Here we have the bayesian network with the following edges:\n",
    "- $Burglary \\rightarrow Alarm$\n",
    "- $Earthquake \\rightarrow Alarm$\n",
    "- $Alarm \\rightarrow JohnCalls$\n",
    "- $Alarm \\rightarrow MaryCalls$\n",
    "\n",
    "This network can be found at https://www.bnlearn.com/bnrepository/discrete-small.html#earthquake and is also given as a .bif file for the assignment."
   ]
  },
  {
   "cell_type": "code",
   "execution_count": null,
   "metadata": {
    "colab": {
     "base_uri": "https://localhost:8080/"
    },
    "id": "mG-aGkauNW9K",
    "outputId": "35bc7fc5-f417-465a-fd3e-c3e3f80aabd0"
   },
   "outputs": [
    {
     "name": "stdout",
     "output_type": "stream",
     "text": [
      "BayesianNetwork with 5 nodes and 4 edges\n"
     ]
    }
   ],
   "source": [
    "earthquake_model =  BayesianNetwork([\n",
    "                    ('Burglary', 'Alarm'),\n",
    "                    ('Earthquake', 'Alarm'),\n",
    "                    ('Alarm', 'JohnCalls'),\n",
    "                    ('Alarm', 'MaryCalls')])\n",
    "\n",
    "# Defining the parameters using CPT\n",
    "cpd_burglary =  TabularCPD(\n",
    "                variable='Burglary', variable_card=2,\n",
    "                values=[[.999], [0.001]])\n",
    "\n",
    "cpd_earthquake =  TabularCPD(\n",
    "                  variable='Earthquake', variable_card=2,\n",
    "                  values=[[0.98], [0.02]])\n",
    "\n",
    "cpd_alarm = TabularCPD(\n",
    "            variable='Alarm', variable_card=2,\n",
    "            values=[[0.999, 0.71, 0.06, 0.05],\n",
    "                    [0.001, 0.29, 0.94, 0.95]],\n",
    "            evidence=['Burglary', 'Earthquake'],\n",
    "            evidence_card=[2, 2])\n",
    "\n",
    "cpd_johncalls = TabularCPD(\n",
    "                variable='JohnCalls', variable_card=2,\n",
    "                values=[[0.95, 0.1], [0.05, 0.9]],\n",
    "                evidence=['Alarm'], evidence_card=[2])\n",
    "\n",
    "cpd_marycalls = TabularCPD(\n",
    "                variable='MaryCalls', variable_card=2,\n",
    "                values=[[0.99, 0.3], [0.01, 0.7]],\n",
    "                evidence=['Alarm'], evidence_card=[2])\n",
    "\n",
    "# Associating the parameters with the model structure\n",
    "earthquake_model.add_cpds(cpd_burglary, cpd_earthquake, cpd_alarm, cpd_johncalls, cpd_marycalls)\n",
    "\n",
    "print(earthquake_model)"
   ]
  },
  {
   "cell_type": "code",
   "execution_count": null,
   "metadata": {
    "colab": {
     "base_uri": "https://localhost:8080/",
     "height": 171,
     "referenced_widgets": [
      "3ccb2678fc6945138c980070ada9d5f5",
      "9f730dfeeaeb44d2bf66b1b7412e06d2",
      "99a099499f794616ae584deb42c3d002",
      "cbd5bf0851a34c0f92117e807ed74d25",
      "7c805229b47847d69bcba3b660e80d37",
      "fdad1a2e20ef4f0d86b7aec0b75ba108",
      "35bfbd20c2a44f7e91cee946a2ce2eb8",
      "95cbc58f786f4e9a8410e10c9867fae7",
      "20e572be8a0244eea359070cabb2f526",
      "de100ac2a3b64622ab9c7f86fe2b894d",
      "f9117121ad1b46389d3337a5df8f28fe"
     ]
    },
    "id": "p3w0b9TaNahV",
    "outputId": "110a7ca9-bfa1-407a-d230-7dd6dea5564b"
   },
   "outputs": [
    {
     "data": {
      "application/vnd.jupyter.widget-view+json": {
       "model_id": "3ccb2678fc6945138c980070ada9d5f5",
       "version_major": 2,
       "version_minor": 0
      },
      "text/plain": [
       "  0%|          | 0/1 [00:00<?, ?it/s]"
      ]
     },
     "metadata": {},
     "output_type": "display_data"
    },
    {
     "name": "stdout",
     "output_type": "stream",
     "text": [
      "+----------+--------------+\n",
      "| Alarm    |   phi(Alarm) |\n",
      "+==========+==============+\n",
      "| Alarm(0) |       0.0598 |\n",
      "+----------+--------------+\n",
      "| Alarm(1) |       0.9402 |\n",
      "+----------+--------------+\n"
     ]
    }
   ],
   "source": [
    "inference = VariableElimination(earthquake_model)\n",
    "\n",
    "# Calculate the CPT for Alarm, when observing Burglary to be true\n",
    "result =  inference.query(\n",
    "          variables=['Alarm'],\n",
    "          evidence={'Burglary': True},\n",
    "          elimination_order=['MaryCalls', 'JohnCalls', 'Earthquake'],\n",
    "          joint=False)\n",
    "\n",
    "for factor in result.values():\n",
    "    print(factor)"
   ]
  },
  {
   "cell_type": "markdown",
   "metadata": {
    "id": "7xmxnT2-YhI7"
   },
   "source": [
    "## Example 2: Alarm\n",
    "\n",
    "Here we have the bayesian network with the following edges:\n",
    "- $Tampering \\rightarrow Alarm$\n",
    "- $Fire \\rightarrow Alarm$\n",
    "- $Fire \\rightarrow Smoke$\n",
    "- $Alarm \\rightarrow Leaving$\n",
    "- $Leaving \\rightarrow Report$\n",
    "\n",
    "This network can be found as the first example on http://artint.info/2e/html/ArtInt2e.Ch8.S3.SS2.html#Ch8.Thmciexamplered15 and should be very familiar as it has been used in the slides as well."
   ]
  },
  {
   "cell_type": "code",
   "execution_count": null,
   "metadata": {
    "colab": {
     "base_uri": "https://localhost:8080/"
    },
    "id": "LLaePx7FWcLP",
    "outputId": "9a8d20fd-1ff2-49ac-a163-740919bde2df"
   },
   "outputs": [
    {
     "name": "stdout",
     "output_type": "stream",
     "text": [
      "BayesianNetwork with 6 nodes and 5 edges\n"
     ]
    }
   ],
   "source": [
    "alarm_model = BayesianNetwork([\n",
    "              ('Tampering', 'Alarm'),\n",
    "              ('Fire', 'Alarm'),\n",
    "              ('Fire', 'Smoke'),\n",
    "              ('Alarm', 'Leaving'),\n",
    "              ('Leaving', 'Report')])\n",
    "\n",
    "# Defining the parameters using CPT\n",
    "cpd_tampering = TabularCPD(\n",
    "                variable='Tampering', variable_card=2,\n",
    "                values=[[.98], [0.02]])\n",
    "\n",
    "cpd_fire =  TabularCPD(\n",
    "            variable='Fire', variable_card=2,\n",
    "            values=[[0.99], [0.01]])\n",
    "\n",
    "cpd_alarm = TabularCPD(\n",
    "            variable='Alarm', variable_card=2,\n",
    "            values=[[0.9999, 0.0100, 0.1500, 0.5],\n",
    "                    [0.0001, 0.9900, 0.8500, 0.5]],\n",
    "            evidence=['Tampering', 'Fire'],\n",
    "            evidence_card=[2, 2])\n",
    "\n",
    "cpd_smoke = TabularCPD(\n",
    "            variable='Smoke', variable_card=2,\n",
    "            values=[[0.99, 0.1], [0.01, 0.9]],\n",
    "            evidence=['Fire'], evidence_card=[2])\n",
    "\n",
    "cpd_leaving = TabularCPD(\n",
    "              variable='Leaving', variable_card=2,\n",
    "              values=[[0.999, 0.12], [0.001, 0.88]],\n",
    "              evidence=['Alarm'], evidence_card=[2])\n",
    "\n",
    "cpd_report =  TabularCPD(\n",
    "              variable='Report', variable_card=2,\n",
    "              values=[[0.99, 0.25], [0.01, 0.75]],\n",
    "              evidence=['Leaving'], evidence_card=[2])\n",
    "\n",
    "# Associating the parameters with the model structure\n",
    "alarm_model.add_cpds(cpd_tampering, cpd_fire, cpd_alarm, cpd_smoke, cpd_leaving, cpd_report)\n",
    "\n",
    "print(alarm_model)"
   ]
  },
  {
   "cell_type": "code",
   "execution_count": null,
   "metadata": {
    "colab": {
     "base_uri": "https://localhost:8080/",
     "height": 171,
     "referenced_widgets": [
      "6a0fab95fd3742dcb0b80e4672c330fe",
      "16d645e5359544ccb0e68df2f4854eea",
      "e0558f1acb8f4c2d850201659a1b8567",
      "ee77a52cf51d4108b1f81e47986e6024",
      "c528a3f2e51146d1a84ed7edc6d306dc",
      "c6e2e2e6eaeb4a80a418834f204d9904",
      "76290febf01a495fa7f3da42d1681a24",
      "0fc1531480a14a0785ddb67416cb2db0",
      "c0b6e012b99d47c38c48dd3b5ed98844",
      "c984a1ce3f974f969b23f4b3eefdf992",
      "61e7962ce6344fddb407b89ab3817354"
     ]
    },
    "id": "kaYRku_ib0r1",
    "outputId": "842af21f-1f3c-4ecf-848f-fa4f90866f6c"
   },
   "outputs": [
    {
     "data": {
      "application/vnd.jupyter.widget-view+json": {
       "model_id": "6a0fab95fd3742dcb0b80e4672c330fe",
       "version_major": 2,
       "version_minor": 0
      },
      "text/plain": [
       "  0%|          | 0/3 [00:00<?, ?it/s]"
      ]
     },
     "metadata": {},
     "output_type": "display_data"
    },
    {
     "name": "stdout",
     "output_type": "stream",
     "text": [
      "+--------------+------------------+\n",
      "| Tampering    |   phi(Tampering) |\n",
      "+==============+==================+\n",
      "| Tampering(0) |           0.9716 |\n",
      "+--------------+------------------+\n",
      "| Tampering(1) |           0.0284 |\n",
      "+--------------+------------------+\n"
     ]
    }
   ],
   "source": [
    "inference = VariableElimination(alarm_model)\n",
    "\n",
    "# Calculate the CPT for Tampering, when observing Smoke to be true and Report to be true\n",
    "result =  inference.query(\n",
    "          variables=['Tampering'],\n",
    "          evidence={'Smoke': True, 'Report':True},\n",
    "          elimination_order=['Leaving', 'Fire', 'Alarm'],\n",
    "          joint=False)\n",
    "\n",
    "for factor in result.values():\n",
    "    print(factor)"
   ]
  },
  {
   "cell_type": "markdown",
   "metadata": {
    "id": "Wvc-1z6GdAZw"
   },
   "source": [
    "## Example 3: Alarm\n",
    "\n",
    "Here we have the bayesian network with the following edges:\n",
    "- $A \\rightarrow C$\n",
    "- $B \\rightarrow C$\n",
    "- $B \\rightarrow D$\n",
    "- $C \\rightarrow E$\n",
    "- $C \\rightarrow F$\n",
    "\n",
    "This is the network from the knowledge clip on Brightspace."
   ]
  },
  {
   "cell_type": "code",
   "execution_count": null,
   "metadata": {
    "colab": {
     "base_uri": "https://localhost:8080/"
    },
    "id": "_6eDyG3Ic_ND",
    "outputId": "47ec630e-a37b-4009-b740-ab6821dc6afa"
   },
   "outputs": [
    {
     "name": "stdout",
     "output_type": "stream",
     "text": [
      "BayesianNetwork with 6 nodes and 5 edges\n"
     ]
    }
   ],
   "source": [
    "clip_model =  BayesianNetwork([\n",
    "              ('A', 'C'),\n",
    "              ('B', 'C'),\n",
    "              ('B', 'D'),\n",
    "              ('C', 'E'),\n",
    "              ('C', 'F')])\n",
    "\n",
    "# Defining the parameters using CPT\n",
    "cpd_a = TabularCPD(\n",
    "        variable='A', variable_card=2,\n",
    "        values=[[0.1], [0.9]])\n",
    "\n",
    "cpd_b = TabularCPD(\n",
    "        variable='B', variable_card=2,\n",
    "        values=[[0.8], [0.2]])\n",
    "\n",
    "cpd_c = TabularCPD(\n",
    "        variable='C', variable_card=2,\n",
    "        values=[[0.6, 0.3, 0.2, 0.9],\n",
    "                [0.4, 0.7, 0.8, 0.1]],\n",
    "        evidence=['A', 'B'],\n",
    "        evidence_card=[2, 2])\n",
    "\n",
    "cpd_d = TabularCPD(\n",
    "        variable='D', variable_card=2,\n",
    "        values=[[0.2, 0.9], [0.8, 0.1]],\n",
    "        evidence=['B'], evidence_card=[2])\n",
    "\n",
    "cpd_e = TabularCPD(\n",
    "        variable='E', variable_card=2,\n",
    "        values=[[0.8, 0.3], [0.2, 0.7]],\n",
    "        evidence=['C'], evidence_card=[2])\n",
    "\n",
    "cpd_f = TabularCPD(\n",
    "        variable='F', variable_card=2,\n",
    "        values=[[0.1, 0.8], [0.9, 0.2]],\n",
    "        evidence=['C'], evidence_card=[2])\n",
    "\n",
    "# Associating the parameters with the model structure\n",
    "clip_model.add_cpds(cpd_a, cpd_b, cpd_c, cpd_d, cpd_e, cpd_f)\n",
    "\n",
    "print(clip_model)"
   ]
  },
  {
   "cell_type": "code",
   "execution_count": null,
   "metadata": {
    "colab": {
     "base_uri": "https://localhost:8080/",
     "height": 171,
     "referenced_widgets": [
      "8921d721c24e4ad59cc56da8853c917e",
      "138f80ff88ed4c6ba40126e4ac4a7149",
      "16f9764233ff44d79f51faa78dc5f34f",
      "657b107f2b5b4f179465d3c1c118817c",
      "f649bbf55e7f4aba97c3102c99e4422d",
      "09d44125bee34f52956d179daf6cd434",
      "79f27bd4e9684fa4a6d3f6054f1704eb",
      "7c2528a3895d4c04a3115fed5a40de52",
      "d7be351a05eb46a8baa788e2828a9a80",
      "fb1aeae131174ec6a0740e30a50702e2",
      "0c24e1a12a2a4425bd1b71ce0559d348"
     ]
    },
    "id": "Uwj2exLZeNKS",
    "outputId": "bb6a714c-1bf5-4ea4-d78c-b8a543dc872b"
   },
   "outputs": [
    {
     "data": {
      "application/vnd.jupyter.widget-view+json": {
       "model_id": "8921d721c24e4ad59cc56da8853c917e",
       "version_major": 2,
       "version_minor": 0
      },
      "text/plain": [
       "  0%|          | 0/3 [00:00<?, ?it/s]"
      ]
     },
     "metadata": {},
     "output_type": "display_data"
    },
    {
     "name": "stdout",
     "output_type": "stream",
     "text": [
      "+------+----------+\n",
      "| E    |   phi(E) |\n",
      "+======+==========+\n",
      "| E(0) |   0.4800 |\n",
      "+------+----------+\n",
      "| E(1) |   0.5200 |\n",
      "+------+----------+\n"
     ]
    }
   ],
   "source": [
    "inference = VariableElimination(clip_model)\n",
    "\n",
    "# Calculate the CPT for E, when not observing anything\n",
    "result =  inference.query(\n",
    "          variables=['E'],\n",
    "          evidence=None,\n",
    "          elimination_order=['D', 'F', 'A', 'B', 'C'],\n",
    "          joint=False)\n",
    "\n",
    "for factor in result.values():\n",
    "    print(factor)"
   ]
  }
 ],
 "metadata": {
  "colab": {
   "provenance": []
  },
  "kernelspec": {
   "display_name": "Python 3",
   "name": "python3"
  },
  "language_info": {
   "codemirror_mode": {
    "name": "ipython",
    "version": 3
   },
   "file_extension": ".py",
   "mimetype": "text/x-python",
   "name": "python",
   "nbconvert_exporter": "python",
   "pygments_lexer": "ipython3",
   "version": "3.11.3"
  },
  "widgets": {
   "application/vnd.jupyter.widget-state+json": {
    "09d44125bee34f52956d179daf6cd434": {
     "model_module": "@jupyter-widgets/base",
     "model_module_version": "1.2.0",
     "model_name": "LayoutModel",
     "state": {
      "_model_module": "@jupyter-widgets/base",
      "_model_module_version": "1.2.0",
      "_model_name": "LayoutModel",
      "_view_count": null,
      "_view_module": "@jupyter-widgets/base",
      "_view_module_version": "1.2.0",
      "_view_name": "LayoutView",
      "align_content": null,
      "align_items": null,
      "align_self": null,
      "border": null,
      "bottom": null,
      "display": null,
      "flex": null,
      "flex_flow": null,
      "grid_area": null,
      "grid_auto_columns": null,
      "grid_auto_flow": null,
      "grid_auto_rows": null,
      "grid_column": null,
      "grid_gap": null,
      "grid_row": null,
      "grid_template_areas": null,
      "grid_template_columns": null,
      "grid_template_rows": null,
      "height": null,
      "justify_content": null,
      "justify_items": null,
      "left": null,
      "margin": null,
      "max_height": null,
      "max_width": null,
      "min_height": null,
      "min_width": null,
      "object_fit": null,
      "object_position": null,
      "order": null,
      "overflow": null,
      "overflow_x": null,
      "overflow_y": null,
      "padding": null,
      "right": null,
      "top": null,
      "visibility": null,
      "width": null
     }
    },
    "0c24e1a12a2a4425bd1b71ce0559d348": {
     "model_module": "@jupyter-widgets/controls",
     "model_module_version": "1.5.0",
     "model_name": "DescriptionStyleModel",
     "state": {
      "_model_module": "@jupyter-widgets/controls",
      "_model_module_version": "1.5.0",
      "_model_name": "DescriptionStyleModel",
      "_view_count": null,
      "_view_module": "@jupyter-widgets/base",
      "_view_module_version": "1.2.0",
      "_view_name": "StyleView",
      "description_width": ""
     }
    },
    "0c377b32b1854c2bb2061980e376e97e": {
     "model_module": "@jupyter-widgets/controls",
     "model_module_version": "1.5.0",
     "model_name": "HTMLModel",
     "state": {
      "_dom_classes": [],
      "_model_module": "@jupyter-widgets/controls",
      "_model_module_version": "1.5.0",
      "_model_name": "HTMLModel",
      "_view_count": null,
      "_view_module": "@jupyter-widgets/controls",
      "_view_module_version": "1.5.0",
      "_view_name": "HTMLView",
      "description": "",
      "description_tooltip": null,
      "layout": "IPY_MODEL_485d7f2d8ec34df4ab6b5dc46e6a8e44",
      "placeholder": "​",
      "style": "IPY_MODEL_662ebe26004d4adb990aadbbd3a871d4",
      "value": " 0/0 [00:00&lt;?, ?it/s]"
     }
    },
    "0ea07eccae394154b123e299d1da43df": {
     "model_module": "@jupyter-widgets/controls",
     "model_module_version": "1.5.0",
     "model_name": "FloatProgressModel",
     "state": {
      "_dom_classes": [],
      "_model_module": "@jupyter-widgets/controls",
      "_model_module_version": "1.5.0",
      "_model_name": "FloatProgressModel",
      "_view_count": null,
      "_view_module": "@jupyter-widgets/controls",
      "_view_module_version": "1.5.0",
      "_view_name": "ProgressView",
      "bar_style": "success",
      "description": "",
      "description_tooltip": null,
      "layout": "IPY_MODEL_7eadb823914e4013b8638992805c726b",
      "max": 1,
      "min": 0,
      "orientation": "horizontal",
      "style": "IPY_MODEL_c75e85c777e343fe91be652848c30a28",
      "value": 0
     }
    },
    "0fc1531480a14a0785ddb67416cb2db0": {
     "model_module": "@jupyter-widgets/base",
     "model_module_version": "1.2.0",
     "model_name": "LayoutModel",
     "state": {
      "_model_module": "@jupyter-widgets/base",
      "_model_module_version": "1.2.0",
      "_model_name": "LayoutModel",
      "_view_count": null,
      "_view_module": "@jupyter-widgets/base",
      "_view_module_version": "1.2.0",
      "_view_name": "LayoutView",
      "align_content": null,
      "align_items": null,
      "align_self": null,
      "border": null,
      "bottom": null,
      "display": null,
      "flex": null,
      "flex_flow": null,
      "grid_area": null,
      "grid_auto_columns": null,
      "grid_auto_flow": null,
      "grid_auto_rows": null,
      "grid_column": null,
      "grid_gap": null,
      "grid_row": null,
      "grid_template_areas": null,
      "grid_template_columns": null,
      "grid_template_rows": null,
      "height": null,
      "justify_content": null,
      "justify_items": null,
      "left": null,
      "margin": null,
      "max_height": null,
      "max_width": null,
      "min_height": null,
      "min_width": null,
      "object_fit": null,
      "object_position": null,
      "order": null,
      "overflow": null,
      "overflow_x": null,
      "overflow_y": null,
      "padding": null,
      "right": null,
      "top": null,
      "visibility": null,
      "width": null
     }
    },
    "138f80ff88ed4c6ba40126e4ac4a7149": {
     "model_module": "@jupyter-widgets/controls",
     "model_module_version": "1.5.0",
     "model_name": "HTMLModel",
     "state": {
      "_dom_classes": [],
      "_model_module": "@jupyter-widgets/controls",
      "_model_module_version": "1.5.0",
      "_model_name": "HTMLModel",
      "_view_count": null,
      "_view_module": "@jupyter-widgets/controls",
      "_view_module_version": "1.5.0",
      "_view_name": "HTMLView",
      "description": "",
      "description_tooltip": null,
      "layout": "IPY_MODEL_09d44125bee34f52956d179daf6cd434",
      "placeholder": "​",
      "style": "IPY_MODEL_79f27bd4e9684fa4a6d3f6054f1704eb",
      "value": "Eliminating: C: 100%"
     }
    },
    "16d645e5359544ccb0e68df2f4854eea": {
     "model_module": "@jupyter-widgets/controls",
     "model_module_version": "1.5.0",
     "model_name": "HTMLModel",
     "state": {
      "_dom_classes": [],
      "_model_module": "@jupyter-widgets/controls",
      "_model_module_version": "1.5.0",
      "_model_name": "HTMLModel",
      "_view_count": null,
      "_view_module": "@jupyter-widgets/controls",
      "_view_module_version": "1.5.0",
      "_view_name": "HTMLView",
      "description": "",
      "description_tooltip": null,
      "layout": "IPY_MODEL_c6e2e2e6eaeb4a80a418834f204d9904",
      "placeholder": "​",
      "style": "IPY_MODEL_76290febf01a495fa7f3da42d1681a24",
      "value": "Eliminating: Alarm: 100%"
     }
    },
    "16f9764233ff44d79f51faa78dc5f34f": {
     "model_module": "@jupyter-widgets/controls",
     "model_module_version": "1.5.0",
     "model_name": "FloatProgressModel",
     "state": {
      "_dom_classes": [],
      "_model_module": "@jupyter-widgets/controls",
      "_model_module_version": "1.5.0",
      "_model_name": "FloatProgressModel",
      "_view_count": null,
      "_view_module": "@jupyter-widgets/controls",
      "_view_module_version": "1.5.0",
      "_view_name": "ProgressView",
      "bar_style": "success",
      "description": "",
      "description_tooltip": null,
      "layout": "IPY_MODEL_7c2528a3895d4c04a3115fed5a40de52",
      "max": 3,
      "min": 0,
      "orientation": "horizontal",
      "style": "IPY_MODEL_d7be351a05eb46a8baa788e2828a9a80",
      "value": 3
     }
    },
    "20e572be8a0244eea359070cabb2f526": {
     "model_module": "@jupyter-widgets/controls",
     "model_module_version": "1.5.0",
     "model_name": "ProgressStyleModel",
     "state": {
      "_model_module": "@jupyter-widgets/controls",
      "_model_module_version": "1.5.0",
      "_model_name": "ProgressStyleModel",
      "_view_count": null,
      "_view_module": "@jupyter-widgets/base",
      "_view_module_version": "1.2.0",
      "_view_name": "StyleView",
      "bar_color": null,
      "description_width": ""
     }
    },
    "21f549543dd34181b98d44016f3f2273": {
     "model_module": "@jupyter-widgets/controls",
     "model_module_version": "1.5.0",
     "model_name": "HTMLModel",
     "state": {
      "_dom_classes": [],
      "_model_module": "@jupyter-widgets/controls",
      "_model_module_version": "1.5.0",
      "_model_name": "HTMLModel",
      "_view_count": null,
      "_view_module": "@jupyter-widgets/controls",
      "_view_module_version": "1.5.0",
      "_view_name": "HTMLView",
      "description": "",
      "description_tooltip": null,
      "layout": "IPY_MODEL_cf023f785cbf4d22b2ce48d2d78e1785",
      "placeholder": "​",
      "style": "IPY_MODEL_e32dbbd4e89c40d995fea9733ecf9a15",
      "value": ""
     }
    },
    "35bfbd20c2a44f7e91cee946a2ce2eb8": {
     "model_module": "@jupyter-widgets/controls",
     "model_module_version": "1.5.0",
     "model_name": "DescriptionStyleModel",
     "state": {
      "_model_module": "@jupyter-widgets/controls",
      "_model_module_version": "1.5.0",
      "_model_name": "DescriptionStyleModel",
      "_view_count": null,
      "_view_module": "@jupyter-widgets/base",
      "_view_module_version": "1.2.0",
      "_view_name": "StyleView",
      "description_width": ""
     }
    },
    "3ccb2678fc6945138c980070ada9d5f5": {
     "model_module": "@jupyter-widgets/controls",
     "model_module_version": "1.5.0",
     "model_name": "HBoxModel",
     "state": {
      "_dom_classes": [],
      "_model_module": "@jupyter-widgets/controls",
      "_model_module_version": "1.5.0",
      "_model_name": "HBoxModel",
      "_view_count": null,
      "_view_module": "@jupyter-widgets/controls",
      "_view_module_version": "1.5.0",
      "_view_name": "HBoxView",
      "box_style": "",
      "children": [
       "IPY_MODEL_9f730dfeeaeb44d2bf66b1b7412e06d2",
       "IPY_MODEL_99a099499f794616ae584deb42c3d002",
       "IPY_MODEL_cbd5bf0851a34c0f92117e807ed74d25"
      ],
      "layout": "IPY_MODEL_7c805229b47847d69bcba3b660e80d37"
     }
    },
    "485d7f2d8ec34df4ab6b5dc46e6a8e44": {
     "model_module": "@jupyter-widgets/base",
     "model_module_version": "1.2.0",
     "model_name": "LayoutModel",
     "state": {
      "_model_module": "@jupyter-widgets/base",
      "_model_module_version": "1.2.0",
      "_model_name": "LayoutModel",
      "_view_count": null,
      "_view_module": "@jupyter-widgets/base",
      "_view_module_version": "1.2.0",
      "_view_name": "LayoutView",
      "align_content": null,
      "align_items": null,
      "align_self": null,
      "border": null,
      "bottom": null,
      "display": null,
      "flex": null,
      "flex_flow": null,
      "grid_area": null,
      "grid_auto_columns": null,
      "grid_auto_flow": null,
      "grid_auto_rows": null,
      "grid_column": null,
      "grid_gap": null,
      "grid_row": null,
      "grid_template_areas": null,
      "grid_template_columns": null,
      "grid_template_rows": null,
      "height": null,
      "justify_content": null,
      "justify_items": null,
      "left": null,
      "margin": null,
      "max_height": null,
      "max_width": null,
      "min_height": null,
      "min_width": null,
      "object_fit": null,
      "object_position": null,
      "order": null,
      "overflow": null,
      "overflow_x": null,
      "overflow_y": null,
      "padding": null,
      "right": null,
      "top": null,
      "visibility": null,
      "width": null
     }
    },
    "61e7962ce6344fddb407b89ab3817354": {
     "model_module": "@jupyter-widgets/controls",
     "model_module_version": "1.5.0",
     "model_name": "DescriptionStyleModel",
     "state": {
      "_model_module": "@jupyter-widgets/controls",
      "_model_module_version": "1.5.0",
      "_model_name": "DescriptionStyleModel",
      "_view_count": null,
      "_view_module": "@jupyter-widgets/base",
      "_view_module_version": "1.2.0",
      "_view_name": "StyleView",
      "description_width": ""
     }
    },
    "657b107f2b5b4f179465d3c1c118817c": {
     "model_module": "@jupyter-widgets/controls",
     "model_module_version": "1.5.0",
     "model_name": "HTMLModel",
     "state": {
      "_dom_classes": [],
      "_model_module": "@jupyter-widgets/controls",
      "_model_module_version": "1.5.0",
      "_model_name": "HTMLModel",
      "_view_count": null,
      "_view_module": "@jupyter-widgets/controls",
      "_view_module_version": "1.5.0",
      "_view_name": "HTMLView",
      "description": "",
      "description_tooltip": null,
      "layout": "IPY_MODEL_fb1aeae131174ec6a0740e30a50702e2",
      "placeholder": "​",
      "style": "IPY_MODEL_0c24e1a12a2a4425bd1b71ce0559d348",
      "value": " 3/3 [00:00&lt;00:00, 158.98it/s]"
     }
    },
    "662ebe26004d4adb990aadbbd3a871d4": {
     "model_module": "@jupyter-widgets/controls",
     "model_module_version": "1.5.0",
     "model_name": "DescriptionStyleModel",
     "state": {
      "_model_module": "@jupyter-widgets/controls",
      "_model_module_version": "1.5.0",
      "_model_name": "DescriptionStyleModel",
      "_view_count": null,
      "_view_module": "@jupyter-widgets/base",
      "_view_module_version": "1.2.0",
      "_view_name": "StyleView",
      "description_width": ""
     }
    },
    "6a0fab95fd3742dcb0b80e4672c330fe": {
     "model_module": "@jupyter-widgets/controls",
     "model_module_version": "1.5.0",
     "model_name": "HBoxModel",
     "state": {
      "_dom_classes": [],
      "_model_module": "@jupyter-widgets/controls",
      "_model_module_version": "1.5.0",
      "_model_name": "HBoxModel",
      "_view_count": null,
      "_view_module": "@jupyter-widgets/controls",
      "_view_module_version": "1.5.0",
      "_view_name": "HBoxView",
      "box_style": "",
      "children": [
       "IPY_MODEL_16d645e5359544ccb0e68df2f4854eea",
       "IPY_MODEL_e0558f1acb8f4c2d850201659a1b8567",
       "IPY_MODEL_ee77a52cf51d4108b1f81e47986e6024"
      ],
      "layout": "IPY_MODEL_c528a3f2e51146d1a84ed7edc6d306dc"
     }
    },
    "76290febf01a495fa7f3da42d1681a24": {
     "model_module": "@jupyter-widgets/controls",
     "model_module_version": "1.5.0",
     "model_name": "DescriptionStyleModel",
     "state": {
      "_model_module": "@jupyter-widgets/controls",
      "_model_module_version": "1.5.0",
      "_model_name": "DescriptionStyleModel",
      "_view_count": null,
      "_view_module": "@jupyter-widgets/base",
      "_view_module_version": "1.2.0",
      "_view_name": "StyleView",
      "description_width": ""
     }
    },
    "79f27bd4e9684fa4a6d3f6054f1704eb": {
     "model_module": "@jupyter-widgets/controls",
     "model_module_version": "1.5.0",
     "model_name": "DescriptionStyleModel",
     "state": {
      "_model_module": "@jupyter-widgets/controls",
      "_model_module_version": "1.5.0",
      "_model_name": "DescriptionStyleModel",
      "_view_count": null,
      "_view_module": "@jupyter-widgets/base",
      "_view_module_version": "1.2.0",
      "_view_name": "StyleView",
      "description_width": ""
     }
    },
    "7c2528a3895d4c04a3115fed5a40de52": {
     "model_module": "@jupyter-widgets/base",
     "model_module_version": "1.2.0",
     "model_name": "LayoutModel",
     "state": {
      "_model_module": "@jupyter-widgets/base",
      "_model_module_version": "1.2.0",
      "_model_name": "LayoutModel",
      "_view_count": null,
      "_view_module": "@jupyter-widgets/base",
      "_view_module_version": "1.2.0",
      "_view_name": "LayoutView",
      "align_content": null,
      "align_items": null,
      "align_self": null,
      "border": null,
      "bottom": null,
      "display": null,
      "flex": null,
      "flex_flow": null,
      "grid_area": null,
      "grid_auto_columns": null,
      "grid_auto_flow": null,
      "grid_auto_rows": null,
      "grid_column": null,
      "grid_gap": null,
      "grid_row": null,
      "grid_template_areas": null,
      "grid_template_columns": null,
      "grid_template_rows": null,
      "height": null,
      "justify_content": null,
      "justify_items": null,
      "left": null,
      "margin": null,
      "max_height": null,
      "max_width": null,
      "min_height": null,
      "min_width": null,
      "object_fit": null,
      "object_position": null,
      "order": null,
      "overflow": null,
      "overflow_x": null,
      "overflow_y": null,
      "padding": null,
      "right": null,
      "top": null,
      "visibility": null,
      "width": null
     }
    },
    "7c805229b47847d69bcba3b660e80d37": {
     "model_module": "@jupyter-widgets/base",
     "model_module_version": "1.2.0",
     "model_name": "LayoutModel",
     "state": {
      "_model_module": "@jupyter-widgets/base",
      "_model_module_version": "1.2.0",
      "_model_name": "LayoutModel",
      "_view_count": null,
      "_view_module": "@jupyter-widgets/base",
      "_view_module_version": "1.2.0",
      "_view_name": "LayoutView",
      "align_content": null,
      "align_items": null,
      "align_self": null,
      "border": null,
      "bottom": null,
      "display": null,
      "flex": null,
      "flex_flow": null,
      "grid_area": null,
      "grid_auto_columns": null,
      "grid_auto_flow": null,
      "grid_auto_rows": null,
      "grid_column": null,
      "grid_gap": null,
      "grid_row": null,
      "grid_template_areas": null,
      "grid_template_columns": null,
      "grid_template_rows": null,
      "height": null,
      "justify_content": null,
      "justify_items": null,
      "left": null,
      "margin": null,
      "max_height": null,
      "max_width": null,
      "min_height": null,
      "min_width": null,
      "object_fit": null,
      "object_position": null,
      "order": null,
      "overflow": null,
      "overflow_x": null,
      "overflow_y": null,
      "padding": null,
      "right": null,
      "top": null,
      "visibility": null,
      "width": null
     }
    },
    "7eadb823914e4013b8638992805c726b": {
     "model_module": "@jupyter-widgets/base",
     "model_module_version": "1.2.0",
     "model_name": "LayoutModel",
     "state": {
      "_model_module": "@jupyter-widgets/base",
      "_model_module_version": "1.2.0",
      "_model_name": "LayoutModel",
      "_view_count": null,
      "_view_module": "@jupyter-widgets/base",
      "_view_module_version": "1.2.0",
      "_view_name": "LayoutView",
      "align_content": null,
      "align_items": null,
      "align_self": null,
      "border": null,
      "bottom": null,
      "display": null,
      "flex": null,
      "flex_flow": null,
      "grid_area": null,
      "grid_auto_columns": null,
      "grid_auto_flow": null,
      "grid_auto_rows": null,
      "grid_column": null,
      "grid_gap": null,
      "grid_row": null,
      "grid_template_areas": null,
      "grid_template_columns": null,
      "grid_template_rows": null,
      "height": null,
      "justify_content": null,
      "justify_items": null,
      "left": null,
      "margin": null,
      "max_height": null,
      "max_width": null,
      "min_height": null,
      "min_width": null,
      "object_fit": null,
      "object_position": null,
      "order": null,
      "overflow": null,
      "overflow_x": null,
      "overflow_y": null,
      "padding": null,
      "right": null,
      "top": null,
      "visibility": null,
      "width": "20px"
     }
    },
    "8921d721c24e4ad59cc56da8853c917e": {
     "model_module": "@jupyter-widgets/controls",
     "model_module_version": "1.5.0",
     "model_name": "HBoxModel",
     "state": {
      "_dom_classes": [],
      "_model_module": "@jupyter-widgets/controls",
      "_model_module_version": "1.5.0",
      "_model_name": "HBoxModel",
      "_view_count": null,
      "_view_module": "@jupyter-widgets/controls",
      "_view_module_version": "1.5.0",
      "_view_name": "HBoxView",
      "box_style": "",
      "children": [
       "IPY_MODEL_138f80ff88ed4c6ba40126e4ac4a7149",
       "IPY_MODEL_16f9764233ff44d79f51faa78dc5f34f",
       "IPY_MODEL_657b107f2b5b4f179465d3c1c118817c"
      ],
      "layout": "IPY_MODEL_f649bbf55e7f4aba97c3102c99e4422d"
     }
    },
    "93acc3b4cd674d9fb092f48ca13cb4d8": {
     "model_module": "@jupyter-widgets/base",
     "model_module_version": "1.2.0",
     "model_name": "LayoutModel",
     "state": {
      "_model_module": "@jupyter-widgets/base",
      "_model_module_version": "1.2.0",
      "_model_name": "LayoutModel",
      "_view_count": null,
      "_view_module": "@jupyter-widgets/base",
      "_view_module_version": "1.2.0",
      "_view_name": "LayoutView",
      "align_content": null,
      "align_items": null,
      "align_self": null,
      "border": null,
      "bottom": null,
      "display": null,
      "flex": null,
      "flex_flow": null,
      "grid_area": null,
      "grid_auto_columns": null,
      "grid_auto_flow": null,
      "grid_auto_rows": null,
      "grid_column": null,
      "grid_gap": null,
      "grid_row": null,
      "grid_template_areas": null,
      "grid_template_columns": null,
      "grid_template_rows": null,
      "height": null,
      "justify_content": null,
      "justify_items": null,
      "left": null,
      "margin": null,
      "max_height": null,
      "max_width": null,
      "min_height": null,
      "min_width": null,
      "object_fit": null,
      "object_position": null,
      "order": null,
      "overflow": null,
      "overflow_x": null,
      "overflow_y": null,
      "padding": null,
      "right": null,
      "top": null,
      "visibility": null,
      "width": null
     }
    },
    "95cbc58f786f4e9a8410e10c9867fae7": {
     "model_module": "@jupyter-widgets/base",
     "model_module_version": "1.2.0",
     "model_name": "LayoutModel",
     "state": {
      "_model_module": "@jupyter-widgets/base",
      "_model_module_version": "1.2.0",
      "_model_name": "LayoutModel",
      "_view_count": null,
      "_view_module": "@jupyter-widgets/base",
      "_view_module_version": "1.2.0",
      "_view_name": "LayoutView",
      "align_content": null,
      "align_items": null,
      "align_self": null,
      "border": null,
      "bottom": null,
      "display": null,
      "flex": null,
      "flex_flow": null,
      "grid_area": null,
      "grid_auto_columns": null,
      "grid_auto_flow": null,
      "grid_auto_rows": null,
      "grid_column": null,
      "grid_gap": null,
      "grid_row": null,
      "grid_template_areas": null,
      "grid_template_columns": null,
      "grid_template_rows": null,
      "height": null,
      "justify_content": null,
      "justify_items": null,
      "left": null,
      "margin": null,
      "max_height": null,
      "max_width": null,
      "min_height": null,
      "min_width": null,
      "object_fit": null,
      "object_position": null,
      "order": null,
      "overflow": null,
      "overflow_x": null,
      "overflow_y": null,
      "padding": null,
      "right": null,
      "top": null,
      "visibility": null,
      "width": null
     }
    },
    "99a099499f794616ae584deb42c3d002": {
     "model_module": "@jupyter-widgets/controls",
     "model_module_version": "1.5.0",
     "model_name": "FloatProgressModel",
     "state": {
      "_dom_classes": [],
      "_model_module": "@jupyter-widgets/controls",
      "_model_module_version": "1.5.0",
      "_model_name": "FloatProgressModel",
      "_view_count": null,
      "_view_module": "@jupyter-widgets/controls",
      "_view_module_version": "1.5.0",
      "_view_name": "ProgressView",
      "bar_style": "success",
      "description": "",
      "description_tooltip": null,
      "layout": "IPY_MODEL_95cbc58f786f4e9a8410e10c9867fae7",
      "max": 1,
      "min": 0,
      "orientation": "horizontal",
      "style": "IPY_MODEL_20e572be8a0244eea359070cabb2f526",
      "value": 1
     }
    },
    "9f730dfeeaeb44d2bf66b1b7412e06d2": {
     "model_module": "@jupyter-widgets/controls",
     "model_module_version": "1.5.0",
     "model_name": "HTMLModel",
     "state": {
      "_dom_classes": [],
      "_model_module": "@jupyter-widgets/controls",
      "_model_module_version": "1.5.0",
      "_model_name": "HTMLModel",
      "_view_count": null,
      "_view_module": "@jupyter-widgets/controls",
      "_view_module_version": "1.5.0",
      "_view_name": "HTMLView",
      "description": "",
      "description_tooltip": null,
      "layout": "IPY_MODEL_fdad1a2e20ef4f0d86b7aec0b75ba108",
      "placeholder": "​",
      "style": "IPY_MODEL_35bfbd20c2a44f7e91cee946a2ce2eb8",
      "value": "Eliminating: Earthquake: 100%"
     }
    },
    "a080e46617d6439da622b6ae85e301ad": {
     "model_module": "@jupyter-widgets/controls",
     "model_module_version": "1.5.0",
     "model_name": "HBoxModel",
     "state": {
      "_dom_classes": [],
      "_model_module": "@jupyter-widgets/controls",
      "_model_module_version": "1.5.0",
      "_model_name": "HBoxModel",
      "_view_count": null,
      "_view_module": "@jupyter-widgets/controls",
      "_view_module_version": "1.5.0",
      "_view_name": "HBoxView",
      "box_style": "",
      "children": [
       "IPY_MODEL_21f549543dd34181b98d44016f3f2273",
       "IPY_MODEL_0ea07eccae394154b123e299d1da43df",
       "IPY_MODEL_0c377b32b1854c2bb2061980e376e97e"
      ],
      "layout": "IPY_MODEL_93acc3b4cd674d9fb092f48ca13cb4d8"
     }
    },
    "c0b6e012b99d47c38c48dd3b5ed98844": {
     "model_module": "@jupyter-widgets/controls",
     "model_module_version": "1.5.0",
     "model_name": "ProgressStyleModel",
     "state": {
      "_model_module": "@jupyter-widgets/controls",
      "_model_module_version": "1.5.0",
      "_model_name": "ProgressStyleModel",
      "_view_count": null,
      "_view_module": "@jupyter-widgets/base",
      "_view_module_version": "1.2.0",
      "_view_name": "StyleView",
      "bar_color": null,
      "description_width": ""
     }
    },
    "c528a3f2e51146d1a84ed7edc6d306dc": {
     "model_module": "@jupyter-widgets/base",
     "model_module_version": "1.2.0",
     "model_name": "LayoutModel",
     "state": {
      "_model_module": "@jupyter-widgets/base",
      "_model_module_version": "1.2.0",
      "_model_name": "LayoutModel",
      "_view_count": null,
      "_view_module": "@jupyter-widgets/base",
      "_view_module_version": "1.2.0",
      "_view_name": "LayoutView",
      "align_content": null,
      "align_items": null,
      "align_self": null,
      "border": null,
      "bottom": null,
      "display": null,
      "flex": null,
      "flex_flow": null,
      "grid_area": null,
      "grid_auto_columns": null,
      "grid_auto_flow": null,
      "grid_auto_rows": null,
      "grid_column": null,
      "grid_gap": null,
      "grid_row": null,
      "grid_template_areas": null,
      "grid_template_columns": null,
      "grid_template_rows": null,
      "height": null,
      "justify_content": null,
      "justify_items": null,
      "left": null,
      "margin": null,
      "max_height": null,
      "max_width": null,
      "min_height": null,
      "min_width": null,
      "object_fit": null,
      "object_position": null,
      "order": null,
      "overflow": null,
      "overflow_x": null,
      "overflow_y": null,
      "padding": null,
      "right": null,
      "top": null,
      "visibility": null,
      "width": null
     }
    },
    "c6e2e2e6eaeb4a80a418834f204d9904": {
     "model_module": "@jupyter-widgets/base",
     "model_module_version": "1.2.0",
     "model_name": "LayoutModel",
     "state": {
      "_model_module": "@jupyter-widgets/base",
      "_model_module_version": "1.2.0",
      "_model_name": "LayoutModel",
      "_view_count": null,
      "_view_module": "@jupyter-widgets/base",
      "_view_module_version": "1.2.0",
      "_view_name": "LayoutView",
      "align_content": null,
      "align_items": null,
      "align_self": null,
      "border": null,
      "bottom": null,
      "display": null,
      "flex": null,
      "flex_flow": null,
      "grid_area": null,
      "grid_auto_columns": null,
      "grid_auto_flow": null,
      "grid_auto_rows": null,
      "grid_column": null,
      "grid_gap": null,
      "grid_row": null,
      "grid_template_areas": null,
      "grid_template_columns": null,
      "grid_template_rows": null,
      "height": null,
      "justify_content": null,
      "justify_items": null,
      "left": null,
      "margin": null,
      "max_height": null,
      "max_width": null,
      "min_height": null,
      "min_width": null,
      "object_fit": null,
      "object_position": null,
      "order": null,
      "overflow": null,
      "overflow_x": null,
      "overflow_y": null,
      "padding": null,
      "right": null,
      "top": null,
      "visibility": null,
      "width": null
     }
    },
    "c75e85c777e343fe91be652848c30a28": {
     "model_module": "@jupyter-widgets/controls",
     "model_module_version": "1.5.0",
     "model_name": "ProgressStyleModel",
     "state": {
      "_model_module": "@jupyter-widgets/controls",
      "_model_module_version": "1.5.0",
      "_model_name": "ProgressStyleModel",
      "_view_count": null,
      "_view_module": "@jupyter-widgets/base",
      "_view_module_version": "1.2.0",
      "_view_name": "StyleView",
      "bar_color": null,
      "description_width": ""
     }
    },
    "c984a1ce3f974f969b23f4b3eefdf992": {
     "model_module": "@jupyter-widgets/base",
     "model_module_version": "1.2.0",
     "model_name": "LayoutModel",
     "state": {
      "_model_module": "@jupyter-widgets/base",
      "_model_module_version": "1.2.0",
      "_model_name": "LayoutModel",
      "_view_count": null,
      "_view_module": "@jupyter-widgets/base",
      "_view_module_version": "1.2.0",
      "_view_name": "LayoutView",
      "align_content": null,
      "align_items": null,
      "align_self": null,
      "border": null,
      "bottom": null,
      "display": null,
      "flex": null,
      "flex_flow": null,
      "grid_area": null,
      "grid_auto_columns": null,
      "grid_auto_flow": null,
      "grid_auto_rows": null,
      "grid_column": null,
      "grid_gap": null,
      "grid_row": null,
      "grid_template_areas": null,
      "grid_template_columns": null,
      "grid_template_rows": null,
      "height": null,
      "justify_content": null,
      "justify_items": null,
      "left": null,
      "margin": null,
      "max_height": null,
      "max_width": null,
      "min_height": null,
      "min_width": null,
      "object_fit": null,
      "object_position": null,
      "order": null,
      "overflow": null,
      "overflow_x": null,
      "overflow_y": null,
      "padding": null,
      "right": null,
      "top": null,
      "visibility": null,
      "width": null
     }
    },
    "cbd5bf0851a34c0f92117e807ed74d25": {
     "model_module": "@jupyter-widgets/controls",
     "model_module_version": "1.5.0",
     "model_name": "HTMLModel",
     "state": {
      "_dom_classes": [],
      "_model_module": "@jupyter-widgets/controls",
      "_model_module_version": "1.5.0",
      "_model_name": "HTMLModel",
      "_view_count": null,
      "_view_module": "@jupyter-widgets/controls",
      "_view_module_version": "1.5.0",
      "_view_name": "HTMLView",
      "description": "",
      "description_tooltip": null,
      "layout": "IPY_MODEL_de100ac2a3b64622ab9c7f86fe2b894d",
      "placeholder": "​",
      "style": "IPY_MODEL_f9117121ad1b46389d3337a5df8f28fe",
      "value": " 1/1 [00:00&lt;00:00, 48.39it/s]"
     }
    },
    "cf023f785cbf4d22b2ce48d2d78e1785": {
     "model_module": "@jupyter-widgets/base",
     "model_module_version": "1.2.0",
     "model_name": "LayoutModel",
     "state": {
      "_model_module": "@jupyter-widgets/base",
      "_model_module_version": "1.2.0",
      "_model_name": "LayoutModel",
      "_view_count": null,
      "_view_module": "@jupyter-widgets/base",
      "_view_module_version": "1.2.0",
      "_view_name": "LayoutView",
      "align_content": null,
      "align_items": null,
      "align_self": null,
      "border": null,
      "bottom": null,
      "display": null,
      "flex": null,
      "flex_flow": null,
      "grid_area": null,
      "grid_auto_columns": null,
      "grid_auto_flow": null,
      "grid_auto_rows": null,
      "grid_column": null,
      "grid_gap": null,
      "grid_row": null,
      "grid_template_areas": null,
      "grid_template_columns": null,
      "grid_template_rows": null,
      "height": null,
      "justify_content": null,
      "justify_items": null,
      "left": null,
      "margin": null,
      "max_height": null,
      "max_width": null,
      "min_height": null,
      "min_width": null,
      "object_fit": null,
      "object_position": null,
      "order": null,
      "overflow": null,
      "overflow_x": null,
      "overflow_y": null,
      "padding": null,
      "right": null,
      "top": null,
      "visibility": null,
      "width": null
     }
    },
    "d7be351a05eb46a8baa788e2828a9a80": {
     "model_module": "@jupyter-widgets/controls",
     "model_module_version": "1.5.0",
     "model_name": "ProgressStyleModel",
     "state": {
      "_model_module": "@jupyter-widgets/controls",
      "_model_module_version": "1.5.0",
      "_model_name": "ProgressStyleModel",
      "_view_count": null,
      "_view_module": "@jupyter-widgets/base",
      "_view_module_version": "1.2.0",
      "_view_name": "StyleView",
      "bar_color": null,
      "description_width": ""
     }
    },
    "de100ac2a3b64622ab9c7f86fe2b894d": {
     "model_module": "@jupyter-widgets/base",
     "model_module_version": "1.2.0",
     "model_name": "LayoutModel",
     "state": {
      "_model_module": "@jupyter-widgets/base",
      "_model_module_version": "1.2.0",
      "_model_name": "LayoutModel",
      "_view_count": null,
      "_view_module": "@jupyter-widgets/base",
      "_view_module_version": "1.2.0",
      "_view_name": "LayoutView",
      "align_content": null,
      "align_items": null,
      "align_self": null,
      "border": null,
      "bottom": null,
      "display": null,
      "flex": null,
      "flex_flow": null,
      "grid_area": null,
      "grid_auto_columns": null,
      "grid_auto_flow": null,
      "grid_auto_rows": null,
      "grid_column": null,
      "grid_gap": null,
      "grid_row": null,
      "grid_template_areas": null,
      "grid_template_columns": null,
      "grid_template_rows": null,
      "height": null,
      "justify_content": null,
      "justify_items": null,
      "left": null,
      "margin": null,
      "max_height": null,
      "max_width": null,
      "min_height": null,
      "min_width": null,
      "object_fit": null,
      "object_position": null,
      "order": null,
      "overflow": null,
      "overflow_x": null,
      "overflow_y": null,
      "padding": null,
      "right": null,
      "top": null,
      "visibility": null,
      "width": null
     }
    },
    "e0558f1acb8f4c2d850201659a1b8567": {
     "model_module": "@jupyter-widgets/controls",
     "model_module_version": "1.5.0",
     "model_name": "FloatProgressModel",
     "state": {
      "_dom_classes": [],
      "_model_module": "@jupyter-widgets/controls",
      "_model_module_version": "1.5.0",
      "_model_name": "FloatProgressModel",
      "_view_count": null,
      "_view_module": "@jupyter-widgets/controls",
      "_view_module_version": "1.5.0",
      "_view_name": "ProgressView",
      "bar_style": "success",
      "description": "",
      "description_tooltip": null,
      "layout": "IPY_MODEL_0fc1531480a14a0785ddb67416cb2db0",
      "max": 3,
      "min": 0,
      "orientation": "horizontal",
      "style": "IPY_MODEL_c0b6e012b99d47c38c48dd3b5ed98844",
      "value": 3
     }
    },
    "e32dbbd4e89c40d995fea9733ecf9a15": {
     "model_module": "@jupyter-widgets/controls",
     "model_module_version": "1.5.0",
     "model_name": "DescriptionStyleModel",
     "state": {
      "_model_module": "@jupyter-widgets/controls",
      "_model_module_version": "1.5.0",
      "_model_name": "DescriptionStyleModel",
      "_view_count": null,
      "_view_module": "@jupyter-widgets/base",
      "_view_module_version": "1.2.0",
      "_view_name": "StyleView",
      "description_width": ""
     }
    },
    "ee77a52cf51d4108b1f81e47986e6024": {
     "model_module": "@jupyter-widgets/controls",
     "model_module_version": "1.5.0",
     "model_name": "HTMLModel",
     "state": {
      "_dom_classes": [],
      "_model_module": "@jupyter-widgets/controls",
      "_model_module_version": "1.5.0",
      "_model_name": "HTMLModel",
      "_view_count": null,
      "_view_module": "@jupyter-widgets/controls",
      "_view_module_version": "1.5.0",
      "_view_name": "HTMLView",
      "description": "",
      "description_tooltip": null,
      "layout": "IPY_MODEL_c984a1ce3f974f969b23f4b3eefdf992",
      "placeholder": "​",
      "style": "IPY_MODEL_61e7962ce6344fddb407b89ab3817354",
      "value": " 3/3 [00:00&lt;00:00, 125.00it/s]"
     }
    },
    "f649bbf55e7f4aba97c3102c99e4422d": {
     "model_module": "@jupyter-widgets/base",
     "model_module_version": "1.2.0",
     "model_name": "LayoutModel",
     "state": {
      "_model_module": "@jupyter-widgets/base",
      "_model_module_version": "1.2.0",
      "_model_name": "LayoutModel",
      "_view_count": null,
      "_view_module": "@jupyter-widgets/base",
      "_view_module_version": "1.2.0",
      "_view_name": "LayoutView",
      "align_content": null,
      "align_items": null,
      "align_self": null,
      "border": null,
      "bottom": null,
      "display": null,
      "flex": null,
      "flex_flow": null,
      "grid_area": null,
      "grid_auto_columns": null,
      "grid_auto_flow": null,
      "grid_auto_rows": null,
      "grid_column": null,
      "grid_gap": null,
      "grid_row": null,
      "grid_template_areas": null,
      "grid_template_columns": null,
      "grid_template_rows": null,
      "height": null,
      "justify_content": null,
      "justify_items": null,
      "left": null,
      "margin": null,
      "max_height": null,
      "max_width": null,
      "min_height": null,
      "min_width": null,
      "object_fit": null,
      "object_position": null,
      "order": null,
      "overflow": null,
      "overflow_x": null,
      "overflow_y": null,
      "padding": null,
      "right": null,
      "top": null,
      "visibility": null,
      "width": null
     }
    },
    "f9117121ad1b46389d3337a5df8f28fe": {
     "model_module": "@jupyter-widgets/controls",
     "model_module_version": "1.5.0",
     "model_name": "DescriptionStyleModel",
     "state": {
      "_model_module": "@jupyter-widgets/controls",
      "_model_module_version": "1.5.0",
      "_model_name": "DescriptionStyleModel",
      "_view_count": null,
      "_view_module": "@jupyter-widgets/base",
      "_view_module_version": "1.2.0",
      "_view_name": "StyleView",
      "description_width": ""
     }
    },
    "fb1aeae131174ec6a0740e30a50702e2": {
     "model_module": "@jupyter-widgets/base",
     "model_module_version": "1.2.0",
     "model_name": "LayoutModel",
     "state": {
      "_model_module": "@jupyter-widgets/base",
      "_model_module_version": "1.2.0",
      "_model_name": "LayoutModel",
      "_view_count": null,
      "_view_module": "@jupyter-widgets/base",
      "_view_module_version": "1.2.0",
      "_view_name": "LayoutView",
      "align_content": null,
      "align_items": null,
      "align_self": null,
      "border": null,
      "bottom": null,
      "display": null,
      "flex": null,
      "flex_flow": null,
      "grid_area": null,
      "grid_auto_columns": null,
      "grid_auto_flow": null,
      "grid_auto_rows": null,
      "grid_column": null,
      "grid_gap": null,
      "grid_row": null,
      "grid_template_areas": null,
      "grid_template_columns": null,
      "grid_template_rows": null,
      "height": null,
      "justify_content": null,
      "justify_items": null,
      "left": null,
      "margin": null,
      "max_height": null,
      "max_width": null,
      "min_height": null,
      "min_width": null,
      "object_fit": null,
      "object_position": null,
      "order": null,
      "overflow": null,
      "overflow_x": null,
      "overflow_y": null,
      "padding": null,
      "right": null,
      "top": null,
      "visibility": null,
      "width": null
     }
    },
    "fdad1a2e20ef4f0d86b7aec0b75ba108": {
     "model_module": "@jupyter-widgets/base",
     "model_module_version": "1.2.0",
     "model_name": "LayoutModel",
     "state": {
      "_model_module": "@jupyter-widgets/base",
      "_model_module_version": "1.2.0",
      "_model_name": "LayoutModel",
      "_view_count": null,
      "_view_module": "@jupyter-widgets/base",
      "_view_module_version": "1.2.0",
      "_view_name": "LayoutView",
      "align_content": null,
      "align_items": null,
      "align_self": null,
      "border": null,
      "bottom": null,
      "display": null,
      "flex": null,
      "flex_flow": null,
      "grid_area": null,
      "grid_auto_columns": null,
      "grid_auto_flow": null,
      "grid_auto_rows": null,
      "grid_column": null,
      "grid_gap": null,
      "grid_row": null,
      "grid_template_areas": null,
      "grid_template_columns": null,
      "grid_template_rows": null,
      "height": null,
      "justify_content": null,
      "justify_items": null,
      "left": null,
      "margin": null,
      "max_height": null,
      "max_width": null,
      "min_height": null,
      "min_width": null,
      "object_fit": null,
      "object_position": null,
      "order": null,
      "overflow": null,
      "overflow_x": null,
      "overflow_y": null,
      "padding": null,
      "right": null,
      "top": null,
      "visibility": null,
      "width": null
     }
    }
   }
  }
 },
 "nbformat": 4,
 "nbformat_minor": 0
}
